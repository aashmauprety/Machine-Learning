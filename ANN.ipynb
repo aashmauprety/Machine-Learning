{
  "nbformat": 4,
  "nbformat_minor": 0,
  "metadata": {
    "colab": {
      "name": "ANN.ipynb",
      "provenance": [],
      "authorship_tag": "ABX9TyPSd3+ke8fkPFATkJec5jD/",
      "include_colab_link": true
    },
    "kernelspec": {
      "name": "python3",
      "display_name": "Python 3"
    },
    "accelerator": "GPU"
  },
  "cells": [
    {
      "cell_type": "markdown",
      "metadata": {
        "id": "view-in-github",
        "colab_type": "text"
      },
      "source": [
        "<a href=\"https://colab.research.google.com/github/aashmauprety/Machine-Learning/blob/master/ANN.ipynb\" target=\"_parent\"><img src=\"https://colab.research.google.com/assets/colab-badge.svg\" alt=\"Open In Colab\"/></a>"
      ]
    },
    {
      "cell_type": "code",
      "metadata": {
        "id": "iQvpDxbqW4Kk",
        "colab_type": "code",
        "colab": {}
      },
      "source": [
        "import pandas as pd"
      ],
      "execution_count": 0,
      "outputs": []
    },
    {
      "cell_type": "code",
      "metadata": {
        "id": "G_184VGMVDdv",
        "colab_type": "code",
        "colab": {}
      },
      "source": [
        "url = 'https://raw.githubusercontent.com/aashmauprety/Machine-Learning/master/Churn_Modelling.csv'"
      ],
      "execution_count": 0,
      "outputs": []
    },
    {
      "cell_type": "code",
      "metadata": {
        "id": "KaCNvic-WwVc",
        "colab_type": "code",
        "colab": {}
      },
      "source": [
        "dataset = pd.read_csv(url)"
      ],
      "execution_count": 0,
      "outputs": []
    },
    {
      "cell_type": "code",
      "metadata": {
        "id": "fUW3XcmBW2aL",
        "colab_type": "code",
        "colab": {}
      },
      "source": [
        "print(dataset)"
      ],
      "execution_count": 0,
      "outputs": []
    },
    {
      "cell_type": "code",
      "metadata": {
        "id": "8NgzDN5IXvL1",
        "colab_type": "code",
        "colab": {}
      },
      "source": [
        "import numpy as np\n",
        "import matplotlib.pyplot as plt\n",
        "import pandas as pd\n",
        "\n",
        "# Importing the dataset\n",
        "#dataset = pd.read_csv('Churn_Modelling.csv')\n",
        "X = dataset.iloc[:, 3:13].values\n",
        "y = dataset.iloc[:, 13].values\n",
        "\n",
        "# Encoding categorical data\n",
        "from sklearn.preprocessing import LabelEncoder, OneHotEncoder\n",
        "from sklearn.compose import ColumnTransformer\n",
        "labelencoder_X_1 = LabelEncoder()\n",
        "X[:, 1] = labelencoder_X_1.fit_transform(X[:, 1])\n",
        "labelencoder_X_2 = LabelEncoder()\n",
        "X[:, 2] = labelencoder_X_2.fit_transform(X[:, 2])\n",
        "ct = ColumnTransformer([(\"Country\", OneHotEncoder(), [1])], remainder = 'passthrough')\n",
        "X = ct.fit_transform(X)\n",
        "X = X[:, 1:]\n",
        "\n",
        "# Splitting the dataset into the Training set and Test set\n",
        "from sklearn.model_selection import train_test_split\n",
        "X_train, X_test, y_train, y_test = train_test_split(X, y, test_size = 0.2, random_state = 0)\n",
        "\n",
        "# Feature Scaling\n",
        "from sklearn.preprocessing import StandardScaler\n",
        "sc = StandardScaler()\n",
        "X_train = sc.fit_transform(X_train)\n",
        "X_test = sc.transform(X_test)"
      ],
      "execution_count": 0,
      "outputs": []
    },
    {
      "cell_type": "code",
      "metadata": {
        "id": "2WNDJ0zLyrSu",
        "colab_type": "code",
        "colab": {}
      },
      "source": [
        "# Importing the Keras libraries and packages\n",
        "# Part 2 - Now let's make the ANN! \n",
        "\n",
        "import keras\n",
        "from keras.models import Sequential\n",
        "from keras.layers import Dense\n",
        "from keras.wrappers.scikit_learn import KerasClassifier\n",
        "from sklearn.model_selection import cross_val_score\n",
        "from keras.layers import Dropout\n",
        "\n",
        "classifier = Sequential() # Initialising the ANN\n",
        "\n",
        "\n",
        "classifier.add(Dense(units = 6, kernel_initializer = 'uniform', activation = 'relu', input_dim = 11)) # Adding the input layer and the first hidden layer\n",
        "classifier.add(Dropout(p = 0.1)) #add a dropout layer to first hidden layer\n",
        "\n",
        "classifier.add(Dense(units = 6, kernel_initializer = 'uniform', activation = 'relu')) # Adding the second hidden layer\n",
        "classifier.add(Dropout(p = 0.1)) #add a dropout layer to second hidden layer\n",
        "\n",
        "classifier.add(Dense(units = 1, kernel_initializer = 'uniform', activation = 'sigmoid')) # Adding the output layer\n",
        "\n",
        "\n",
        "classifier.compile(optimizer = 'adam', loss = 'binary_crossentropy', metrics = ['accuracy']) # Compiling the ANN\n",
        "\n",
        "\n",
        "classifier.fit(X_train, y_train, batch_size = 10, epochs = 100) # Fitting the ANN to the Training set\n"
      ],
      "execution_count": 0,
      "outputs": []
    },
    {
      "cell_type": "code",
      "metadata": {
        "id": "ubc47dsDyl66",
        "colab_type": "code",
        "colab": {}
      },
      "source": [
        "y_predict = classifier.predict(X_test)\n",
        "y_predict = (y_predict > 0.5)\n",
        "print(y_predict)"
      ],
      "execution_count": 0,
      "outputs": []
    },
    {
      "cell_type": "code",
      "metadata": {
        "id": "Fu7_VyYjx3tJ",
        "colab_type": "code",
        "colab": {}
      },
      "source": [
        "#Cross Validate\n",
        "import keras\n",
        "from keras.models import Sequential\n",
        "from keras.layers import Dense\n",
        "from keras.wrappers.scikit_learn import KerasClassifier\n",
        "from sklearn.model_selection import cross_val_score\n",
        "\n",
        "def build_classifier():\n",
        " classifier = Sequential() # Initialising the ANN\n",
        " classifier.add(Dense(units = 6, kernel_initializer = 'uniform', activation = 'relu', input_dim = 11)) # Adding the input layer and the first hidden layer\n",
        " classifier.add(Dense(units = 6, kernel_initializer = 'uniform', activation = 'relu')) # Adding the second hidden layer\n",
        " classifier.add(Dense(units = 1, kernel_initializer = 'uniform', activation = 'sigmoid')) # Adding the output layer\n",
        " classifier.compile(optimizer = 'adam', loss = 'binary_crossentropy', metrics = ['accuracy']) # Compiling the ANN\n",
        " #classifier.fit(X_train, y_train, batch_size = 10, epochs = 100) # Fitting the ANN to the Training set\n",
        " return classifier\n",
        "\n",
        "classifier = KerasClassifier(build_fn= build_classifier, batch_size= 10, epochs = 100)\n",
        "accuracies = cross_val_score(estimator = classifier, X= X_train, y = y_train, cv = 10, n_jobs= 1)"
      ],
      "execution_count": 0,
      "outputs": []
    },
    {
      "cell_type": "code",
      "metadata": {
        "id": "UrlTEisUsHoI",
        "colab_type": "code",
        "colab": {}
      },
      "source": [
        "mean = accuracies.mean()\n",
        "variance = accuracies.std()\n",
        "print(mean)\n",
        "print(variance)"
      ],
      "execution_count": 0,
      "outputs": []
    },
    {
      "cell_type": "code",
      "metadata": {
        "id": "yPhECWxStHu6",
        "colab_type": "code",
        "colab": {}
      },
      "source": [
        "#Parameters Tuning for improving accuracy \n",
        "#Using GridSearch to find best combination of hyper paremeters.\n",
        "import keras\n",
        "from keras.models import Sequential\n",
        "from keras.layers import Dense\n",
        "from keras.wrappers.scikit_learn import KerasClassifier\n",
        "from sklearn.model_selection import GridSearchCV\n",
        "\n",
        "def build_classifier(optimizer):\n",
        " classifier = Sequential() # Initialising the ANN\n",
        " classifier.add(Dense(units = 6, kernel_initializer = 'uniform', activation = 'relu', input_dim = 11)) # Adding the input layer and the first hidden layer\n",
        " classifier.add(Dense(units = 6, kernel_initializer = 'uniform', activation = 'relu')) # Adding the second hidden layer\n",
        " classifier.add(Dense(units = 1, kernel_initializer = 'uniform', activation = 'sigmoid')) # Adding the output layer\n",
        " classifier.compile(optimizer = optimizer, loss = 'binary_crossentropy', metrics = ['accuracy']) # Compiling the ANN\n",
        " #classifier.fit(X_train, y_train, batch_size = 10, epochs = 100) # Fitting the ANN to the Training set\n",
        " return classifier\n",
        "\n",
        "classifier = KerasClassifier(build_fn= build_classifier)\n",
        "parameter = {'batch_size' : [25, 32], 'epochs' : [100, 500], 'optimizer': ['adam', 'rmsprop']}\n",
        "grid_search = GridSearchCV(estimator= classifier, param_grid= parameter, scoring= 'accuracy', cv= 10, verbose= 1)\n",
        "grid_search = grid_search.fit(X_train, y_train)\n",
        "best_parameters = grid_search.best_params_\n",
        "best_scores = grid_search.best_score_"
      ],
      "execution_count": 0,
      "outputs": []
    }
  ]
}