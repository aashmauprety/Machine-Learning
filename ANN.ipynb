{
  "nbformat": 4,
  "nbformat_minor": 0,
  "metadata": {
    "colab": {
      "name": "ANN.ipynb",
      "provenance": [],
      "authorship_tag": "ABX9TyNnPsRuC3CUnKqYOIFb/j3w",
      "include_colab_link": true
    },
    "kernelspec": {
      "name": "python3",
      "display_name": "Python 3"
    }
  },
  "cells": [
    {
      "cell_type": "markdown",
      "metadata": {
        "id": "view-in-github",
        "colab_type": "text"
      },
      "source": [
        "<a href=\"https://colab.research.google.com/github/aashmauprety/Machine-Learning/blob/master/ANN.ipynb\" target=\"_parent\"><img src=\"https://colab.research.google.com/assets/colab-badge.svg\" alt=\"Open In Colab\"/></a>"
      ]
    },
    {
      "cell_type": "code",
      "metadata": {
        "id": "iQvpDxbqW4Kk",
        "colab_type": "code",
        "colab": {}
      },
      "source": [
        "import pandas as pd"
      ],
      "execution_count": 0,
      "outputs": []
    },
    {
      "cell_type": "code",
      "metadata": {
        "id": "G_184VGMVDdv",
        "colab_type": "code",
        "colab": {}
      },
      "source": [
        "url = 'https://raw.githubusercontent.com/aashmauprety/Machine-Learning/master/Churn_Modelling.csv'"
      ],
      "execution_count": 0,
      "outputs": []
    },
    {
      "cell_type": "code",
      "metadata": {
        "id": "KaCNvic-WwVc",
        "colab_type": "code",
        "colab": {}
      },
      "source": [
        "dataset = pd.read_csv(url)"
      ],
      "execution_count": 0,
      "outputs": []
    },
    {
      "cell_type": "code",
      "metadata": {
        "id": "fUW3XcmBW2aL",
        "colab_type": "code",
        "colab": {}
      },
      "source": [
        "print(dataset)"
      ],
      "execution_count": 0,
      "outputs": []
    },
    {
      "cell_type": "code",
      "metadata": {
        "id": "8NgzDN5IXvL1",
        "colab_type": "code",
        "colab": {}
      },
      "source": [
        "#importing libraries\n",
        "import numpy as np\n",
        "import pandas as pd\n",
        "import matplotlib.pyplot as plt\n"
      ],
      "execution_count": 0,
      "outputs": []
    },
    {
      "cell_type": "code",
      "metadata": {
        "id": "tDhKV8bpYL3j",
        "colab_type": "code",
        "colab": {}
      },
      "source": [
        "#create a matrix of feature #take only those independent values which have impact on the output\n",
        "X = dataset.iloc[:, 3:13].values #get the independent variable from 3rd column to 12th\n",
        "y = dataset.iloc[:, 13].values #get the dependent variable or the output at the last/ 13th column."
      ],
      "execution_count": 0,
      "outputs": []
    },
    {
      "cell_type": "code",
      "metadata": {
        "id": "ZIxGYmeCaaQB",
        "colab_type": "code",
        "colab": {}
      },
      "source": [
        "#check this feature matrix\n",
        "print(X)\n",
        "print(y)"
      ],
      "execution_count": 0,
      "outputs": []
    },
    {
      "cell_type": "code",
      "metadata": {
        "id": "Yoeyy3Z8azfg",
        "colab_type": "code",
        "colab": {}
      },
      "source": [
        "#We have categorical data in our dataset so we need to encode them\n",
        "#categorical datatypes are those that can be divided into groups\n",
        "#here we have gender as categorical data set. We need to encode them.\n",
        "\n",
        "#Encoding the independent categorical variable\n",
        "# Encoding categorical data\n",
        "from sklearn.preprocessing import LabelEncoder, OneHotEncoder\n",
        "from sklearn.compose import ColumnTransformer\n",
        "labelencoder_X_1 = LabelEncoder()\n",
        "X[:, 1] = labelencoder_X_1.fit_transform(X[:, 1])\n",
        "labelencoder_X_2 = LabelEncoder()\n",
        "X[:, 2] = labelencoder_X_2.fit_transform(X[:, 2])\n",
        "ct = ColumnTransformer([(\"Country\", OneHotEncoder(), [1])], remainder = 'passthrough')\n",
        "X = ct.fit_transform(X)\n",
        "X = X[:, 1:]\n",
        "\n",
        "#because geography column has three unique features we need to hotencode it. Doing it creates three dummy variable for country\n",
        "#three colums for country\n"
      ],
      "execution_count": 0,
      "outputs": []
    },
    {
      "cell_type": "code",
      "metadata": {
        "id": "VFXxw_achOxN",
        "colab_type": "code",
        "colab": {}
      },
      "source": [
        "# Splitting the dataset into the Training set and Test set\n",
        "from sklearn.model_selection import train_test_split\n",
        "X_train, X_test, y_train, y_test = train_test_split(X, y, test_size = 0.2, random_state = 0)\n",
        "# print(X_train)"
      ],
      "execution_count": 0,
      "outputs": []
    },
    {
      "cell_type": "code",
      "metadata": {
        "id": "HGagWipIojgF",
        "colab_type": "code",
        "colab": {}
      },
      "source": [
        "# Feature Scaling #this is to make sure that no independent variable dominates other #scaling to data\n",
        "from sklearn.preprocessing import StandardScaler\n",
        "sc = StandardScaler()\n",
        "X_train = sc.fit_transform(X_train)\n",
        "X_test = sc.transform(X_test)\n",
        "# print(X_train)"
      ],
      "execution_count": 0,
      "outputs": []
    },
    {
      "cell_type": "code",
      "metadata": {
        "id": "65sPpmlTpKiM",
        "colab_type": "code",
        "colab": {}
      },
      "source": [
        "#BUIDING ANN\n",
        "import keras\n",
        "from keras.models import Sequential\n",
        "from keras.layers import Dense"
      ],
      "execution_count": 0,
      "outputs": []
    },
    {
      "cell_type": "code",
      "metadata": {
        "id": "xUbjt8OYpfuL",
        "colab_type": "code",
        "colab": {}
      },
      "source": [
        "#Initialize the ANN\n",
        "classifier = Sequential() #object of Sequential Class"
      ],
      "execution_count": 0,
      "outputs": []
    },
    {
      "cell_type": "code",
      "metadata": {
        "id": "Pi8NGX1Bpmaa",
        "colab_type": "code",
        "colab": {}
      },
      "source": [
        "# Add the input layer and first hidden layer \n",
        "classifier.add(Dense(units = 6, kernel_initializer= 'uniform', activation= 'relu', input_dim = 14)) #units is size of hidden layer \n",
        "                                                                                                    # inpu_dim is size of input here 11 including two part of country"
      ],
      "execution_count": 0,
      "outputs": []
    },
    {
      "cell_type": "code",
      "metadata": {
        "id": "HFGz3Jn5tehB",
        "colab_type": "code",
        "colab": {}
      },
      "source": [
        "# Adding the second hidden layer \n",
        "classifier.add(Dense(units= 6, activation= 'relu', kernel_initializer= 'uniform'))"
      ],
      "execution_count": 0,
      "outputs": []
    },
    {
      "cell_type": "code",
      "metadata": {
        "id": "GdmaVA3ctsJP",
        "colab_type": "code",
        "colab": {}
      },
      "source": [
        "# Adding the output node \n",
        "classifier.add(Dense(units = 1, kernel_initializer= 'uniform', activation= 'sigmoid'))"
      ],
      "execution_count": 0,
      "outputs": []
    },
    {
      "cell_type": "code",
      "metadata": {
        "id": "FeIb3QZVt8hV",
        "colab_type": "code",
        "colab": {}
      },
      "source": [
        "#compiling the ANN\n",
        "classifier.compile(optimizer= 'adam', loss= 'binary_crossentropy', metrics= ['accuracy']) #adam is used to find the best weights #this is stochastic gradient algorithm \n",
        "                                                                                          #loss function is logarithmic function #categorical_crossentropy if more output"
      ],
      "execution_count": 0,
      "outputs": []
    },
    {
      "cell_type": "code",
      "metadata": {
        "id": "3UxqJlVOw77g",
        "colab_type": "code",
        "colab": {
          "base_uri": "https://localhost:8080/",
          "height": 320
        },
        "outputId": "2f7cf860-7604-4bf3-d8fd-1272c7d702ef"
      },
      "source": [
        "#Training the model\n",
        "classifier.fit(X_train, y_train, batch_size= 10, epochs=100)"
      ],
      "execution_count": 80,
      "outputs": [
        {
          "output_type": "error",
          "ename": "ValueError",
          "evalue": "ignored",
          "traceback": [
            "\u001b[0;31m---------------------------------------------------------------------------\u001b[0m",
            "\u001b[0;31mValueError\u001b[0m                                Traceback (most recent call last)",
            "\u001b[0;32m<ipython-input-80-411ceacfbf8b>\u001b[0m in \u001b[0;36m<module>\u001b[0;34m()\u001b[0m\n\u001b[1;32m      1\u001b[0m \u001b[0;31m#Training the model\u001b[0m\u001b[0;34m\u001b[0m\u001b[0;34m\u001b[0m\u001b[0;34m\u001b[0m\u001b[0m\n\u001b[0;32m----> 2\u001b[0;31m \u001b[0mclassifier\u001b[0m\u001b[0;34m.\u001b[0m\u001b[0mfit\u001b[0m\u001b[0;34m(\u001b[0m\u001b[0mX_train\u001b[0m\u001b[0;34m,\u001b[0m \u001b[0my_train\u001b[0m\u001b[0;34m,\u001b[0m \u001b[0mbatch_size\u001b[0m\u001b[0;34m=\u001b[0m \u001b[0;36m10\u001b[0m\u001b[0;34m,\u001b[0m \u001b[0mepochs\u001b[0m\u001b[0;34m=\u001b[0m\u001b[0;36m100\u001b[0m\u001b[0;34m)\u001b[0m\u001b[0;34m\u001b[0m\u001b[0;34m\u001b[0m\u001b[0m\n\u001b[0m",
            "\u001b[0;32m/usr/local/lib/python3.6/dist-packages/keras/engine/training.py\u001b[0m in \u001b[0;36mfit\u001b[0;34m(self, x, y, batch_size, epochs, verbose, callbacks, validation_split, validation_data, shuffle, class_weight, sample_weight, initial_epoch, steps_per_epoch, validation_steps, validation_freq, max_queue_size, workers, use_multiprocessing, **kwargs)\u001b[0m\n\u001b[1;32m   1152\u001b[0m             \u001b[0msample_weight\u001b[0m\u001b[0;34m=\u001b[0m\u001b[0msample_weight\u001b[0m\u001b[0;34m,\u001b[0m\u001b[0;34m\u001b[0m\u001b[0;34m\u001b[0m\u001b[0m\n\u001b[1;32m   1153\u001b[0m             \u001b[0mclass_weight\u001b[0m\u001b[0;34m=\u001b[0m\u001b[0mclass_weight\u001b[0m\u001b[0;34m,\u001b[0m\u001b[0;34m\u001b[0m\u001b[0;34m\u001b[0m\u001b[0m\n\u001b[0;32m-> 1154\u001b[0;31m             batch_size=batch_size)\n\u001b[0m\u001b[1;32m   1155\u001b[0m \u001b[0;34m\u001b[0m\u001b[0m\n\u001b[1;32m   1156\u001b[0m         \u001b[0;31m# Prepare validation data.\u001b[0m\u001b[0;34m\u001b[0m\u001b[0;34m\u001b[0m\u001b[0;34m\u001b[0m\u001b[0m\n",
            "\u001b[0;32m/usr/local/lib/python3.6/dist-packages/keras/engine/training.py\u001b[0m in \u001b[0;36m_standardize_user_data\u001b[0;34m(self, x, y, sample_weight, class_weight, check_array_lengths, batch_size)\u001b[0m\n\u001b[1;32m    577\u001b[0m             \u001b[0mfeed_input_shapes\u001b[0m\u001b[0;34m,\u001b[0m\u001b[0;34m\u001b[0m\u001b[0;34m\u001b[0m\u001b[0m\n\u001b[1;32m    578\u001b[0m             \u001b[0mcheck_batch_axis\u001b[0m\u001b[0;34m=\u001b[0m\u001b[0;32mFalse\u001b[0m\u001b[0;34m,\u001b[0m  \u001b[0;31m# Don't enforce the batch size.\u001b[0m\u001b[0;34m\u001b[0m\u001b[0;34m\u001b[0m\u001b[0m\n\u001b[0;32m--> 579\u001b[0;31m             exception_prefix='input')\n\u001b[0m\u001b[1;32m    580\u001b[0m \u001b[0;34m\u001b[0m\u001b[0m\n\u001b[1;32m    581\u001b[0m         \u001b[0;32mif\u001b[0m \u001b[0my\u001b[0m \u001b[0;32mis\u001b[0m \u001b[0;32mnot\u001b[0m \u001b[0;32mNone\u001b[0m\u001b[0;34m:\u001b[0m\u001b[0;34m\u001b[0m\u001b[0;34m\u001b[0m\u001b[0m\n",
            "\u001b[0;32m/usr/local/lib/python3.6/dist-packages/keras/engine/training_utils.py\u001b[0m in \u001b[0;36mstandardize_input_data\u001b[0;34m(data, names, shapes, check_batch_axis, exception_prefix)\u001b[0m\n\u001b[1;32m    143\u001b[0m                             \u001b[0;34m': expected '\u001b[0m \u001b[0;34m+\u001b[0m \u001b[0mnames\u001b[0m\u001b[0;34m[\u001b[0m\u001b[0mi\u001b[0m\u001b[0;34m]\u001b[0m \u001b[0;34m+\u001b[0m \u001b[0;34m' to have shape '\u001b[0m \u001b[0;34m+\u001b[0m\u001b[0;34m\u001b[0m\u001b[0;34m\u001b[0m\u001b[0m\n\u001b[1;32m    144\u001b[0m                             \u001b[0mstr\u001b[0m\u001b[0;34m(\u001b[0m\u001b[0mshape\u001b[0m\u001b[0;34m)\u001b[0m \u001b[0;34m+\u001b[0m \u001b[0;34m' but got array with shape '\u001b[0m \u001b[0;34m+\u001b[0m\u001b[0;34m\u001b[0m\u001b[0;34m\u001b[0m\u001b[0m\n\u001b[0;32m--> 145\u001b[0;31m                             str(data_shape))\n\u001b[0m\u001b[1;32m    146\u001b[0m     \u001b[0;32mreturn\u001b[0m \u001b[0mdata\u001b[0m\u001b[0;34m\u001b[0m\u001b[0;34m\u001b[0m\u001b[0m\n\u001b[1;32m    147\u001b[0m \u001b[0;34m\u001b[0m\u001b[0m\n",
            "\u001b[0;31mValueError\u001b[0m: Error when checking input: expected dense_1_input to have shape (11,) but got array with shape (14,)"
          ]
        }
      ]
    },
    {
      "cell_type": "code",
      "metadata": {
        "id": "RWLGuhD4x06K",
        "colab_type": "code",
        "colab": {
          "base_uri": "https://localhost:8080/",
          "height": 1000
        },
        "outputId": "4ae24d7d-b111-43fb-8e6c-4b359b9a2dfd"
      },
      "source": [
        "import numpy as np\n",
        "import matplotlib.pyplot as plt\n",
        "import pandas as pd\n",
        "\n",
        "# Importing the dataset\n",
        "#dataset = pd.read_csv('Churn_Modelling.csv')\n",
        "X = dataset.iloc[:, 3:13].values\n",
        "y = dataset.iloc[:, 13].values\n",
        "\n",
        "# Encoding categorical data\n",
        "from sklearn.preprocessing import LabelEncoder, OneHotEncoder\n",
        "labelencoder_X_1 = LabelEncoder()\n",
        "X[:, 1] = labelencoder_X_1.fit_transform(X[:, 1])\n",
        "labelencoder_X_2 = LabelEncoder()\n",
        "X[:, 2] = labelencoder_X_2.fit_transform(X[:, 2])\n",
        "ct = ColumnTransformer([(\"Country\", OneHotEncoder(), [1])], remainder = 'passthrough')\n",
        "X = ct.fit_transform(X)\n",
        "X = X[:, 1:]\n",
        "\n",
        "# Splitting the dataset into the Training set and Test set\n",
        "from sklearn.model_selection import train_test_split\n",
        "X_train, X_test, y_train, y_test = train_test_split(X, y, test_size = 0.2, random_state = 0)\n",
        "\n",
        "# Feature Scaling\n",
        "from sklearn.preprocessing import StandardScaler\n",
        "sc = StandardScaler()\n",
        "X_train = sc.fit_transform(X_train)\n",
        "X_test = sc.transform(X_test)\n",
        "\n",
        "# Part 2 - Now let's make the ANN!\n",
        "\n",
        "# Importing the Keras libraries and packages\n",
        "import keras\n",
        "from keras.models import Sequential\n",
        "from keras.layers import Dense\n",
        "\n",
        "# Initialising the ANN\n",
        "classifier = Sequential()\n",
        "\n",
        "# Adding the input layer and the first hidden layer\n",
        "classifier.add(Dense(units = 6, kernel_initializer = 'uniform', activation = 'relu', input_dim = 11))\n",
        "\n",
        "# Adding the second hidden layer\n",
        "classifier.add(Dense(units = 6, kernel_initializer = 'uniform', activation = 'relu'))\n",
        "\n",
        "# Adding the output layer\n",
        "classifier.add(Dense(units = 1, kernel_initializer = 'uniform', activation = 'sigmoid'))\n",
        "\n",
        "# Compiling the ANN\n",
        "classifier.compile(optimizer = 'adam', loss = 'binary_crossentropy', metrics = ['accuracy'])\n",
        "\n",
        "# Fitting the ANN to the Training set\n",
        "classifier.fit(X_train, y_train, batch_size = 10, epochs = 100)\n",
        "\n",
        "# Part 3 - Making predictions and evaluating the model\n",
        "\n",
        "# Predicting the Test set results\n",
        "y_pred = classifier.predict(X_test)\n",
        "y_pred = (y_pred > 0.5)\n",
        "\n",
        "# Making the Confusion Matrix\n",
        "from sklearn.metrics import confusion_matrix\n",
        "cm = confusion_matrix(y_test, y_pred)\n"
      ],
      "execution_count": 84,
      "outputs": [
        {
          "output_type": "stream",
          "text": [
            "Epoch 1/100\n",
            "8000/8000 [==============================] - 1s 152us/step - loss: 0.4797 - accuracy: 0.7960\n",
            "Epoch 2/100\n",
            "8000/8000 [==============================] - 1s 120us/step - loss: 0.4288 - accuracy: 0.7960\n",
            "Epoch 3/100\n",
            "8000/8000 [==============================] - 1s 106us/step - loss: 0.4228 - accuracy: 0.7972\n",
            "Epoch 4/100\n",
            "8000/8000 [==============================] - 1s 104us/step - loss: 0.4185 - accuracy: 0.8232\n",
            "Epoch 5/100\n",
            "8000/8000 [==============================] - 1s 105us/step - loss: 0.4156 - accuracy: 0.8303\n",
            "Epoch 6/100\n",
            "8000/8000 [==============================] - 1s 105us/step - loss: 0.4135 - accuracy: 0.8298\n",
            "Epoch 7/100\n",
            "8000/8000 [==============================] - 1s 118us/step - loss: 0.4126 - accuracy: 0.8331\n",
            "Epoch 8/100\n",
            "8000/8000 [==============================] - 1s 103us/step - loss: 0.4120 - accuracy: 0.8326\n",
            "Epoch 9/100\n",
            "8000/8000 [==============================] - 1s 107us/step - loss: 0.4105 - accuracy: 0.8332\n",
            "Epoch 10/100\n",
            "8000/8000 [==============================] - 1s 112us/step - loss: 0.4099 - accuracy: 0.8315\n",
            "Epoch 11/100\n",
            "8000/8000 [==============================] - 1s 109us/step - loss: 0.4087 - accuracy: 0.8346\n",
            "Epoch 12/100\n",
            "8000/8000 [==============================] - 1s 107us/step - loss: 0.4083 - accuracy: 0.8339\n",
            "Epoch 13/100\n",
            "8000/8000 [==============================] - 1s 112us/step - loss: 0.4073 - accuracy: 0.8344\n",
            "Epoch 14/100\n",
            "8000/8000 [==============================] - 1s 107us/step - loss: 0.4070 - accuracy: 0.8341\n",
            "Epoch 15/100\n",
            "8000/8000 [==============================] - 1s 138us/step - loss: 0.4068 - accuracy: 0.8338\n",
            "Epoch 16/100\n",
            "8000/8000 [==============================] - 1s 160us/step - loss: 0.4057 - accuracy: 0.8355\n",
            "Epoch 17/100\n",
            "8000/8000 [==============================] - 1s 158us/step - loss: 0.4049 - accuracy: 0.8338\n",
            "Epoch 18/100\n",
            "8000/8000 [==============================] - 1s 154us/step - loss: 0.4047 - accuracy: 0.8347\n",
            "Epoch 19/100\n",
            "8000/8000 [==============================] - 1s 158us/step - loss: 0.4044 - accuracy: 0.8351\n",
            "Epoch 20/100\n",
            "8000/8000 [==============================] - 1s 174us/step - loss: 0.4045 - accuracy: 0.8350\n",
            "Epoch 21/100\n",
            "8000/8000 [==============================] - 1s 173us/step - loss: 0.4040 - accuracy: 0.8355\n",
            "Epoch 22/100\n",
            "8000/8000 [==============================] - 1s 170us/step - loss: 0.4035 - accuracy: 0.8354\n",
            "Epoch 23/100\n",
            "8000/8000 [==============================] - 1s 152us/step - loss: 0.4036 - accuracy: 0.8354\n",
            "Epoch 24/100\n",
            "8000/8000 [==============================] - 1s 128us/step - loss: 0.4035 - accuracy: 0.8332\n",
            "Epoch 25/100\n",
            "8000/8000 [==============================] - 1s 106us/step - loss: 0.4030 - accuracy: 0.8336\n",
            "Epoch 26/100\n",
            "8000/8000 [==============================] - 1s 106us/step - loss: 0.4028 - accuracy: 0.8355\n",
            "Epoch 27/100\n",
            "8000/8000 [==============================] - 1s 108us/step - loss: 0.4026 - accuracy: 0.8351\n",
            "Epoch 28/100\n",
            "8000/8000 [==============================] - 1s 110us/step - loss: 0.4028 - accuracy: 0.8341\n",
            "Epoch 29/100\n",
            "8000/8000 [==============================] - 1s 119us/step - loss: 0.4026 - accuracy: 0.8341\n",
            "Epoch 30/100\n",
            "8000/8000 [==============================] - 1s 108us/step - loss: 0.4024 - accuracy: 0.8336\n",
            "Epoch 31/100\n",
            "8000/8000 [==============================] - 1s 113us/step - loss: 0.4018 - accuracy: 0.8346\n",
            "Epoch 32/100\n",
            "8000/8000 [==============================] - 1s 109us/step - loss: 0.4023 - accuracy: 0.8349\n",
            "Epoch 33/100\n",
            "8000/8000 [==============================] - 1s 123us/step - loss: 0.4020 - accuracy: 0.8355\n",
            "Epoch 34/100\n",
            "8000/8000 [==============================] - 1s 107us/step - loss: 0.4019 - accuracy: 0.8355\n",
            "Epoch 35/100\n",
            "8000/8000 [==============================] - 1s 106us/step - loss: 0.4015 - accuracy: 0.8330\n",
            "Epoch 36/100\n",
            "8000/8000 [==============================] - 1s 109us/step - loss: 0.4019 - accuracy: 0.8344\n",
            "Epoch 37/100\n",
            "8000/8000 [==============================] - 1s 117us/step - loss: 0.4015 - accuracy: 0.8357\n",
            "Epoch 38/100\n",
            "8000/8000 [==============================] - 1s 121us/step - loss: 0.4014 - accuracy: 0.8354\n",
            "Epoch 39/100\n",
            "8000/8000 [==============================] - 1s 115us/step - loss: 0.4008 - accuracy: 0.8345\n",
            "Epoch 40/100\n",
            "8000/8000 [==============================] - 1s 116us/step - loss: 0.4012 - accuracy: 0.8338\n",
            "Epoch 41/100\n",
            "8000/8000 [==============================] - 1s 121us/step - loss: 0.4011 - accuracy: 0.8357\n",
            "Epoch 42/100\n",
            "8000/8000 [==============================] - 1s 117us/step - loss: 0.4008 - accuracy: 0.8342\n",
            "Epoch 43/100\n",
            "8000/8000 [==============================] - 1s 143us/step - loss: 0.4010 - accuracy: 0.8351\n",
            "Epoch 44/100\n",
            "8000/8000 [==============================] - 1s 126us/step - loss: 0.4008 - accuracy: 0.8359\n",
            "Epoch 45/100\n",
            "8000/8000 [==============================] - 1s 140us/step - loss: 0.4012 - accuracy: 0.8342\n",
            "Epoch 46/100\n",
            "8000/8000 [==============================] - 1s 154us/step - loss: 0.4013 - accuracy: 0.8346\n",
            "Epoch 47/100\n",
            "8000/8000 [==============================] - 1s 140us/step - loss: 0.4010 - accuracy: 0.8360\n",
            "Epoch 48/100\n",
            "8000/8000 [==============================] - 1s 121us/step - loss: 0.4003 - accuracy: 0.8354\n",
            "Epoch 49/100\n",
            "8000/8000 [==============================] - 1s 113us/step - loss: 0.4013 - accuracy: 0.8335\n",
            "Epoch 50/100\n",
            "8000/8000 [==============================] - 1s 125us/step - loss: 0.4004 - accuracy: 0.8347\n",
            "Epoch 51/100\n",
            "8000/8000 [==============================] - 1s 111us/step - loss: 0.4002 - accuracy: 0.8341\n",
            "Epoch 52/100\n",
            "8000/8000 [==============================] - 1s 111us/step - loss: 0.4003 - accuracy: 0.8355\n",
            "Epoch 53/100\n",
            "8000/8000 [==============================] - 1s 108us/step - loss: 0.3992 - accuracy: 0.8350\n",
            "Epoch 54/100\n",
            "8000/8000 [==============================] - 1s 108us/step - loss: 0.3998 - accuracy: 0.8344\n",
            "Epoch 55/100\n",
            "8000/8000 [==============================] - 1s 110us/step - loss: 0.3995 - accuracy: 0.8354\n",
            "Epoch 56/100\n",
            "8000/8000 [==============================] - 1s 109us/step - loss: 0.3993 - accuracy: 0.8340\n",
            "Epoch 57/100\n",
            "8000/8000 [==============================] - 1s 115us/step - loss: 0.3986 - accuracy: 0.8354\n",
            "Epoch 58/100\n",
            "8000/8000 [==============================] - 1s 109us/step - loss: 0.3988 - accuracy: 0.8356\n",
            "Epoch 59/100\n",
            "8000/8000 [==============================] - 1s 111us/step - loss: 0.3981 - accuracy: 0.8354\n",
            "Epoch 60/100\n",
            "8000/8000 [==============================] - 1s 110us/step - loss: 0.3976 - accuracy: 0.8350\n",
            "Epoch 61/100\n",
            "8000/8000 [==============================] - 1s 112us/step - loss: 0.3977 - accuracy: 0.8357\n",
            "Epoch 62/100\n",
            "8000/8000 [==============================] - 1s 106us/step - loss: 0.3974 - accuracy: 0.8361\n",
            "Epoch 63/100\n",
            "8000/8000 [==============================] - 1s 106us/step - loss: 0.3976 - accuracy: 0.8360\n",
            "Epoch 64/100\n",
            "8000/8000 [==============================] - 1s 113us/step - loss: 0.3967 - accuracy: 0.8361\n",
            "Epoch 65/100\n",
            "8000/8000 [==============================] - 1s 107us/step - loss: 0.3969 - accuracy: 0.8356\n",
            "Epoch 66/100\n",
            "8000/8000 [==============================] - 1s 107us/step - loss: 0.3964 - accuracy: 0.8385\n",
            "Epoch 67/100\n",
            "8000/8000 [==============================] - 1s 105us/step - loss: 0.3963 - accuracy: 0.8361\n",
            "Epoch 68/100\n",
            "8000/8000 [==============================] - 1s 107us/step - loss: 0.3963 - accuracy: 0.8371\n",
            "Epoch 69/100\n",
            "8000/8000 [==============================] - 1s 105us/step - loss: 0.3962 - accuracy: 0.8349\n",
            "Epoch 70/100\n",
            "8000/8000 [==============================] - 1s 118us/step - loss: 0.3956 - accuracy: 0.8363\n",
            "Epoch 71/100\n",
            "8000/8000 [==============================] - 1s 108us/step - loss: 0.3961 - accuracy: 0.8354\n",
            "Epoch 72/100\n",
            "8000/8000 [==============================] - 1s 109us/step - loss: 0.3956 - accuracy: 0.8346\n",
            "Epoch 73/100\n",
            "8000/8000 [==============================] - 1s 107us/step - loss: 0.3957 - accuracy: 0.8364\n",
            "Epoch 74/100\n",
            "8000/8000 [==============================] - 1s 112us/step - loss: 0.3954 - accuracy: 0.8355\n",
            "Epoch 75/100\n",
            "8000/8000 [==============================] - 1s 109us/step - loss: 0.3955 - accuracy: 0.8360\n",
            "Epoch 76/100\n",
            "8000/8000 [==============================] - 1s 114us/step - loss: 0.3951 - accuracy: 0.8351\n",
            "Epoch 77/100\n",
            "8000/8000 [==============================] - 1s 124us/step - loss: 0.3953 - accuracy: 0.8355\n",
            "Epoch 78/100\n",
            "8000/8000 [==============================] - 1s 116us/step - loss: 0.3950 - accuracy: 0.8363\n",
            "Epoch 79/100\n",
            "8000/8000 [==============================] - 1s 113us/step - loss: 0.3955 - accuracy: 0.8336\n",
            "Epoch 80/100\n",
            "8000/8000 [==============================] - 1s 113us/step - loss: 0.3948 - accuracy: 0.8355\n",
            "Epoch 81/100\n",
            "8000/8000 [==============================] - 1s 107us/step - loss: 0.3952 - accuracy: 0.8349\n",
            "Epoch 82/100\n",
            "8000/8000 [==============================] - 1s 111us/step - loss: 0.3950 - accuracy: 0.8351\n",
            "Epoch 83/100\n",
            "8000/8000 [==============================] - 1s 113us/step - loss: 0.3951 - accuracy: 0.8347\n",
            "Epoch 84/100\n",
            "8000/8000 [==============================] - 1s 117us/step - loss: 0.3945 - accuracy: 0.8354\n",
            "Epoch 85/100\n",
            "8000/8000 [==============================] - 1s 124us/step - loss: 0.3947 - accuracy: 0.8351\n",
            "Epoch 86/100\n",
            "8000/8000 [==============================] - 1s 109us/step - loss: 0.3948 - accuracy: 0.8349\n",
            "Epoch 87/100\n",
            "8000/8000 [==============================] - 1s 111us/step - loss: 0.3949 - accuracy: 0.8360\n",
            "Epoch 88/100\n",
            "8000/8000 [==============================] - 1s 106us/step - loss: 0.3941 - accuracy: 0.8367\n",
            "Epoch 89/100\n",
            "8000/8000 [==============================] - 1s 113us/step - loss: 0.3948 - accuracy: 0.8369\n",
            "Epoch 90/100\n",
            "8000/8000 [==============================] - 1s 117us/step - loss: 0.3944 - accuracy: 0.8346\n",
            "Epoch 91/100\n",
            "8000/8000 [==============================] - 1s 116us/step - loss: 0.3947 - accuracy: 0.8364\n",
            "Epoch 92/100\n",
            "8000/8000 [==============================] - 1s 111us/step - loss: 0.3945 - accuracy: 0.8353\n",
            "Epoch 93/100\n",
            "8000/8000 [==============================] - 1s 119us/step - loss: 0.3949 - accuracy: 0.8360\n",
            "Epoch 94/100\n",
            "8000/8000 [==============================] - 1s 114us/step - loss: 0.3942 - accuracy: 0.8371\n",
            "Epoch 95/100\n",
            "8000/8000 [==============================] - 1s 109us/step - loss: 0.3943 - accuracy: 0.8364\n",
            "Epoch 96/100\n",
            "8000/8000 [==============================] - 1s 117us/step - loss: 0.3941 - accuracy: 0.8350\n",
            "Epoch 97/100\n",
            "8000/8000 [==============================] - 1s 110us/step - loss: 0.3945 - accuracy: 0.8370\n",
            "Epoch 98/100\n",
            "8000/8000 [==============================] - 1s 106us/step - loss: 0.3945 - accuracy: 0.8347\n",
            "Epoch 99/100\n",
            "8000/8000 [==============================] - 1s 111us/step - loss: 0.3946 - accuracy: 0.8361\n",
            "Epoch 100/100\n",
            "8000/8000 [==============================] - 1s 110us/step - loss: 0.3941 - accuracy: 0.8349\n"
          ],
          "name": "stdout"
        }
      ]
    },
    {
      "cell_type": "code",
      "metadata": {
        "id": "2WNDJ0zLyrSu",
        "colab_type": "code",
        "colab": {}
      },
      "source": [
        "y_pred = classifier.predict(X_test)\n",
        "y_pred = (y_pred > 0.5)\n",
        "print(y_pred)"
      ],
      "execution_count": 0,
      "outputs": []
    },
    {
      "cell_type": "code",
      "metadata": {
        "id": "SKpCMN3wzGOp",
        "colab_type": "code",
        "colab": {
          "base_uri": "https://localhost:8080/",
          "height": 50
        },
        "outputId": "f145a1b4-e760-433b-e870-e9216be0289d"
      },
      "source": [
        "# Making the Confusion Matrix\n",
        "from sklearn.metrics import confusion_matrix\n",
        "cm = confusion_matrix(y_test, y_pred)\n",
        "print(cm)"
      ],
      "execution_count": 90,
      "outputs": [
        {
          "output_type": "stream",
          "text": [
            "[[1549   46]\n",
            " [ 268  137]]\n"
          ],
          "name": "stdout"
        }
      ]
    }
  ]
}