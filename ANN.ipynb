{
  "nbformat": 4,
  "nbformat_minor": 0,
  "metadata": {
    "colab": {
      "name": "ANN.ipynb",
      "provenance": [],
      "authorship_tag": "ABX9TyP/DtMD611FKfiKLD4DkD63",
      "include_colab_link": true
    },
    "kernelspec": {
      "name": "python3",
      "display_name": "Python 3"
    },
    "accelerator": "TPU"
  },
  "cells": [
    {
      "cell_type": "markdown",
      "metadata": {
        "id": "view-in-github",
        "colab_type": "text"
      },
      "source": [
        "<a href=\"https://colab.research.google.com/github/aashmauprety/Machine-Learning/blob/master/ANN.ipynb\" target=\"_parent\"><img src=\"https://colab.research.google.com/assets/colab-badge.svg\" alt=\"Open In Colab\"/></a>"
      ]
    },
    {
      "cell_type": "code",
      "metadata": {
        "id": "iQvpDxbqW4Kk",
        "colab_type": "code",
        "colab": {}
      },
      "source": [
        "import pandas as pd"
      ],
      "execution_count": 0,
      "outputs": []
    },
    {
      "cell_type": "code",
      "metadata": {
        "id": "G_184VGMVDdv",
        "colab_type": "code",
        "colab": {}
      },
      "source": [
        "url = 'https://raw.githubusercontent.com/aashmauprety/Machine-Learning/master/Churn_Modelling.csv'"
      ],
      "execution_count": 0,
      "outputs": []
    },
    {
      "cell_type": "code",
      "metadata": {
        "id": "KaCNvic-WwVc",
        "colab_type": "code",
        "colab": {}
      },
      "source": [
        "dataset = pd.read_csv(url)"
      ],
      "execution_count": 0,
      "outputs": []
    },
    {
      "cell_type": "code",
      "metadata": {
        "id": "fUW3XcmBW2aL",
        "colab_type": "code",
        "colab": {}
      },
      "source": [
        "print(dataset)"
      ],
      "execution_count": 0,
      "outputs": []
    },
    {
      "cell_type": "code",
      "metadata": {
        "id": "8NgzDN5IXvL1",
        "colab_type": "code",
        "colab": {}
      },
      "source": [
        "import numpy as np\n",
        "import matplotlib.pyplot as plt\n",
        "import pandas as pd\n",
        "\n",
        "# Importing the dataset\n",
        "#dataset = pd.read_csv('Churn_Modelling.csv')\n",
        "X = dataset.iloc[:, 3:13].values\n",
        "y = dataset.iloc[:, 13].values\n",
        "\n",
        "# Encoding categorical data\n",
        "from sklearn.preprocessing import LabelEncoder, OneHotEncoder\n",
        "from sklearn.compose import ColumnTransformer\n",
        "labelencoder_X_1 = LabelEncoder()\n",
        "X[:, 1] = labelencoder_X_1.fit_transform(X[:, 1])\n",
        "labelencoder_X_2 = LabelEncoder()\n",
        "X[:, 2] = labelencoder_X_2.fit_transform(X[:, 2])\n",
        "ct = ColumnTransformer([(\"Country\", OneHotEncoder(), [1])], remainder = 'passthrough')\n",
        "X = ct.fit_transform(X)\n",
        "X = X[:, 1:]\n",
        "\n",
        "# Splitting the dataset into the Training set and Test set\n",
        "from sklearn.model_selection import train_test_split\n",
        "X_train, X_test, y_train, y_test = train_test_split(X, y, test_size = 0.2, random_state = 0)\n",
        "\n",
        "# Feature Scaling\n",
        "from sklearn.preprocessing import StandardScaler\n",
        "sc = StandardScaler()\n",
        "X_train = sc.fit_transform(X_train)\n",
        "X_test = sc.transform(X_test)"
      ],
      "execution_count": 0,
      "outputs": []
    },
    {
      "cell_type": "code",
      "metadata": {
        "id": "2WNDJ0zLyrSu",
        "colab_type": "code",
        "colab": {
          "base_uri": "https://localhost:8080/",
          "height": 1000
        },
        "outputId": "07a33c43-1848-4b04-984f-53d9a766cb4d"
      },
      "source": [
        "# Importing the Keras libraries and packages\n",
        "# Part 2 - Now let's make the ANN! \n",
        "\n",
        "import keras\n",
        "from keras.models import Sequential\n",
        "from keras.layers import Dense\n",
        "from keras.wrappers.scikit_learn import KerasClassifier\n",
        "from sklearn.model_selection import cross_val_score\n",
        "\n",
        "classifier = Sequential() # Initialising the ANN\n",
        "classifier.add(Dense(units = 6, kernel_initializer = 'uniform', activation = 'relu', input_dim = 11)) # Adding the input layer and the first hidden layer\n",
        "classifier.add(Dense(units = 6, kernel_initializer = 'uniform', activation = 'relu')) # Adding the second hidden layer\n",
        "classifier.add(Dense(units = 1, kernel_initializer = 'uniform', activation = 'sigmoid')) # Adding the output layer\n",
        "classifier.compile(optimizer = 'adam', loss = 'binary_crossentropy', metrics = ['accuracy']) # Compiling the ANN\n",
        "classifier.fit(X_train, y_train, batch_size = 10, epochs = 100) # Fitting the ANN to the Training set\n"
      ],
      "execution_count": 27,
      "outputs": [
        {
          "output_type": "stream",
          "text": [
            "Epoch 1/100\n",
            "8000/8000 [==============================] - 1s 136us/step - loss: 0.5031 - accuracy: 0.7972\n",
            "Epoch 2/100\n",
            "8000/8000 [==============================] - 1s 126us/step - loss: 0.4102 - accuracy: 0.8256\n",
            "Epoch 3/100\n",
            "8000/8000 [==============================] - 1s 125us/step - loss: 0.3960 - accuracy: 0.8292\n",
            "Epoch 4/100\n",
            "8000/8000 [==============================] - 1s 117us/step - loss: 0.3878 - accuracy: 0.8307\n",
            "Epoch 5/100\n",
            "8000/8000 [==============================] - 1s 131us/step - loss: 0.3810 - accuracy: 0.8311\n",
            "Epoch 6/100\n",
            "8000/8000 [==============================] - 1s 125us/step - loss: 0.3759 - accuracy: 0.8400\n",
            "Epoch 7/100\n",
            "8000/8000 [==============================] - 1s 125us/step - loss: 0.3723 - accuracy: 0.8450\n",
            "Epoch 8/100\n",
            "8000/8000 [==============================] - 1s 124us/step - loss: 0.3693 - accuracy: 0.8484\n",
            "Epoch 9/100\n",
            "8000/8000 [==============================] - 1s 129us/step - loss: 0.3661 - accuracy: 0.8490\n",
            "Epoch 10/100\n",
            "8000/8000 [==============================] - 1s 121us/step - loss: 0.3636 - accuracy: 0.8503\n",
            "Epoch 11/100\n",
            "8000/8000 [==============================] - 1s 117us/step - loss: 0.3621 - accuracy: 0.8520\n",
            "Epoch 12/100\n",
            "8000/8000 [==============================] - 1s 119us/step - loss: 0.3600 - accuracy: 0.8544\n",
            "Epoch 13/100\n",
            "8000/8000 [==============================] - 1s 123us/step - loss: 0.3585 - accuracy: 0.8529\n",
            "Epoch 14/100\n",
            "8000/8000 [==============================] - 1s 114us/step - loss: 0.3574 - accuracy: 0.8524\n",
            "Epoch 15/100\n",
            "8000/8000 [==============================] - 1s 110us/step - loss: 0.3566 - accuracy: 0.8558\n",
            "Epoch 16/100\n",
            "8000/8000 [==============================] - 1s 110us/step - loss: 0.3540 - accuracy: 0.8558\n",
            "Epoch 17/100\n",
            "8000/8000 [==============================] - 1s 111us/step - loss: 0.3539 - accuracy: 0.8566\n",
            "Epoch 18/100\n",
            "8000/8000 [==============================] - 1s 109us/step - loss: 0.3528 - accuracy: 0.8566\n",
            "Epoch 19/100\n",
            "8000/8000 [==============================] - 1s 109us/step - loss: 0.3510 - accuracy: 0.8569\n",
            "Epoch 20/100\n",
            "8000/8000 [==============================] - 1s 111us/step - loss: 0.3516 - accuracy: 0.8572\n",
            "Epoch 21/100\n",
            "8000/8000 [==============================] - 1s 109us/step - loss: 0.3490 - accuracy: 0.8569\n",
            "Epoch 22/100\n",
            "8000/8000 [==============================] - 1s 110us/step - loss: 0.3485 - accuracy: 0.8564\n",
            "Epoch 23/100\n",
            "8000/8000 [==============================] - 1s 110us/step - loss: 0.3485 - accuracy: 0.8559\n",
            "Epoch 24/100\n",
            "8000/8000 [==============================] - 1s 110us/step - loss: 0.3471 - accuracy: 0.8572\n",
            "Epoch 25/100\n",
            "8000/8000 [==============================] - 1s 108us/step - loss: 0.3457 - accuracy: 0.8590\n",
            "Epoch 26/100\n",
            "8000/8000 [==============================] - 1s 110us/step - loss: 0.3471 - accuracy: 0.8549\n",
            "Epoch 27/100\n",
            "8000/8000 [==============================] - 1s 108us/step - loss: 0.3460 - accuracy: 0.8583\n",
            "Epoch 28/100\n",
            "8000/8000 [==============================] - 1s 119us/step - loss: 0.3457 - accuracy: 0.8558\n",
            "Epoch 29/100\n",
            "8000/8000 [==============================] - 1s 114us/step - loss: 0.3453 - accuracy: 0.8575\n",
            "Epoch 30/100\n",
            "8000/8000 [==============================] - 1s 113us/step - loss: 0.3447 - accuracy: 0.8575\n",
            "Epoch 31/100\n",
            "8000/8000 [==============================] - 1s 116us/step - loss: 0.3443 - accuracy: 0.8591\n",
            "Epoch 32/100\n",
            "8000/8000 [==============================] - 1s 117us/step - loss: 0.3437 - accuracy: 0.8580\n",
            "Epoch 33/100\n",
            "8000/8000 [==============================] - 1s 116us/step - loss: 0.3440 - accuracy: 0.8586\n",
            "Epoch 34/100\n",
            "8000/8000 [==============================] - 1s 119us/step - loss: 0.3436 - accuracy: 0.8585\n",
            "Epoch 35/100\n",
            "8000/8000 [==============================] - 1s 116us/step - loss: 0.3422 - accuracy: 0.8566\n",
            "Epoch 36/100\n",
            "8000/8000 [==============================] - 1s 116us/step - loss: 0.3419 - accuracy: 0.8609\n",
            "Epoch 37/100\n",
            "8000/8000 [==============================] - 1s 113us/step - loss: 0.3420 - accuracy: 0.8612\n",
            "Epoch 38/100\n",
            "8000/8000 [==============================] - 1s 119us/step - loss: 0.3411 - accuracy: 0.8604\n",
            "Epoch 39/100\n",
            "8000/8000 [==============================] - 1s 115us/step - loss: 0.3417 - accuracy: 0.8593\n",
            "Epoch 40/100\n",
            "8000/8000 [==============================] - 1s 112us/step - loss: 0.3411 - accuracy: 0.8608\n",
            "Epoch 41/100\n",
            "8000/8000 [==============================] - 1s 109us/step - loss: 0.3403 - accuracy: 0.8597\n",
            "Epoch 42/100\n",
            "8000/8000 [==============================] - 1s 107us/step - loss: 0.3409 - accuracy: 0.8564\n",
            "Epoch 43/100\n",
            "8000/8000 [==============================] - 1s 109us/step - loss: 0.3399 - accuracy: 0.8615\n",
            "Epoch 44/100\n",
            "8000/8000 [==============================] - 1s 106us/step - loss: 0.3408 - accuracy: 0.8610\n",
            "Epoch 45/100\n",
            "8000/8000 [==============================] - 1s 107us/step - loss: 0.3399 - accuracy: 0.8601\n",
            "Epoch 46/100\n",
            "8000/8000 [==============================] - 1s 111us/step - loss: 0.3398 - accuracy: 0.8599\n",
            "Epoch 47/100\n",
            "8000/8000 [==============================] - 1s 114us/step - loss: 0.3396 - accuracy: 0.8614\n",
            "Epoch 48/100\n",
            "8000/8000 [==============================] - 1s 118us/step - loss: 0.3396 - accuracy: 0.8577\n",
            "Epoch 49/100\n",
            "8000/8000 [==============================] - 1s 113us/step - loss: 0.3396 - accuracy: 0.8614\n",
            "Epoch 50/100\n",
            "8000/8000 [==============================] - 1s 114us/step - loss: 0.3388 - accuracy: 0.8604\n",
            "Epoch 51/100\n",
            "8000/8000 [==============================] - 1s 116us/step - loss: 0.3387 - accuracy: 0.8608\n",
            "Epoch 52/100\n",
            "8000/8000 [==============================] - 1s 121us/step - loss: 0.3394 - accuracy: 0.8615\n",
            "Epoch 53/100\n",
            "8000/8000 [==============================] - 1s 118us/step - loss: 0.3387 - accuracy: 0.8625\n",
            "Epoch 54/100\n",
            "8000/8000 [==============================] - 1s 113us/step - loss: 0.3389 - accuracy: 0.8610\n",
            "Epoch 55/100\n",
            "8000/8000 [==============================] - 1s 119us/step - loss: 0.3386 - accuracy: 0.8600\n",
            "Epoch 56/100\n",
            "8000/8000 [==============================] - 1s 118us/step - loss: 0.3385 - accuracy: 0.8594\n",
            "Epoch 57/100\n",
            "8000/8000 [==============================] - 1s 115us/step - loss: 0.3384 - accuracy: 0.8597\n",
            "Epoch 58/100\n",
            "8000/8000 [==============================] - 1s 117us/step - loss: 0.3373 - accuracy: 0.8597\n",
            "Epoch 59/100\n",
            "8000/8000 [==============================] - 1s 117us/step - loss: 0.3384 - accuracy: 0.8604\n",
            "Epoch 60/100\n",
            "8000/8000 [==============================] - 1s 118us/step - loss: 0.3376 - accuracy: 0.8616\n",
            "Epoch 61/100\n",
            "8000/8000 [==============================] - 1s 117us/step - loss: 0.3375 - accuracy: 0.8619\n",
            "Epoch 62/100\n",
            "8000/8000 [==============================] - 1s 124us/step - loss: 0.3381 - accuracy: 0.8599\n",
            "Epoch 63/100\n",
            "8000/8000 [==============================] - 1s 120us/step - loss: 0.3375 - accuracy: 0.8624\n",
            "Epoch 64/100\n",
            "8000/8000 [==============================] - 1s 116us/step - loss: 0.3379 - accuracy: 0.8581\n",
            "Epoch 65/100\n",
            "8000/8000 [==============================] - 1s 120us/step - loss: 0.3381 - accuracy: 0.8597\n",
            "Epoch 66/100\n",
            "8000/8000 [==============================] - 1s 119us/step - loss: 0.3381 - accuracy: 0.8610\n",
            "Epoch 67/100\n",
            "8000/8000 [==============================] - 1s 120us/step - loss: 0.3378 - accuracy: 0.8620\n",
            "Epoch 68/100\n",
            "8000/8000 [==============================] - 1s 119us/step - loss: 0.3372 - accuracy: 0.8627\n",
            "Epoch 69/100\n",
            "8000/8000 [==============================] - 1s 117us/step - loss: 0.3373 - accuracy: 0.8590\n",
            "Epoch 70/100\n",
            "8000/8000 [==============================] - 1s 122us/step - loss: 0.3374 - accuracy: 0.8615\n",
            "Epoch 71/100\n",
            "8000/8000 [==============================] - 1s 116us/step - loss: 0.3375 - accuracy: 0.8616\n",
            "Epoch 72/100\n",
            "8000/8000 [==============================] - 1s 120us/step - loss: 0.3371 - accuracy: 0.8596\n",
            "Epoch 73/100\n",
            "8000/8000 [==============================] - 1s 119us/step - loss: 0.3374 - accuracy: 0.8600\n",
            "Epoch 74/100\n",
            "8000/8000 [==============================] - 1s 118us/step - loss: 0.3381 - accuracy: 0.8612\n",
            "Epoch 75/100\n",
            "8000/8000 [==============================] - 1s 123us/step - loss: 0.3378 - accuracy: 0.8615\n",
            "Epoch 76/100\n",
            "8000/8000 [==============================] - 1s 116us/step - loss: 0.3380 - accuracy: 0.8618\n",
            "Epoch 77/100\n",
            "8000/8000 [==============================] - 1s 115us/step - loss: 0.3379 - accuracy: 0.8606\n",
            "Epoch 78/100\n",
            "8000/8000 [==============================] - 1s 119us/step - loss: 0.3375 - accuracy: 0.8600\n",
            "Epoch 79/100\n",
            "8000/8000 [==============================] - 1s 117us/step - loss: 0.3363 - accuracy: 0.8619\n",
            "Epoch 80/100\n",
            "8000/8000 [==============================] - 1s 115us/step - loss: 0.3368 - accuracy: 0.8626\n",
            "Epoch 81/100\n",
            "8000/8000 [==============================] - 1s 116us/step - loss: 0.3370 - accuracy: 0.8604\n",
            "Epoch 82/100\n",
            "8000/8000 [==============================] - 1s 115us/step - loss: 0.3371 - accuracy: 0.8600\n",
            "Epoch 83/100\n",
            "8000/8000 [==============================] - 1s 115us/step - loss: 0.3372 - accuracy: 0.8611\n",
            "Epoch 84/100\n",
            "8000/8000 [==============================] - 1s 115us/step - loss: 0.3372 - accuracy: 0.8618\n",
            "Epoch 85/100\n",
            "8000/8000 [==============================] - 1s 117us/step - loss: 0.3369 - accuracy: 0.8610\n",
            "Epoch 86/100\n",
            "8000/8000 [==============================] - 1s 119us/step - loss: 0.3362 - accuracy: 0.8602\n",
            "Epoch 87/100\n",
            "8000/8000 [==============================] - 1s 117us/step - loss: 0.3375 - accuracy: 0.8600\n",
            "Epoch 88/100\n",
            "8000/8000 [==============================] - 1s 119us/step - loss: 0.3368 - accuracy: 0.8601\n",
            "Epoch 89/100\n",
            "8000/8000 [==============================] - 1s 117us/step - loss: 0.3370 - accuracy: 0.8600\n",
            "Epoch 90/100\n",
            "8000/8000 [==============================] - 1s 117us/step - loss: 0.3369 - accuracy: 0.8600\n",
            "Epoch 91/100\n",
            "8000/8000 [==============================] - 1s 120us/step - loss: 0.3363 - accuracy: 0.8596\n",
            "Epoch 92/100\n",
            "8000/8000 [==============================] - 1s 119us/step - loss: 0.3375 - accuracy: 0.8589\n",
            "Epoch 93/100\n",
            "8000/8000 [==============================] - 1s 117us/step - loss: 0.3367 - accuracy: 0.8609\n",
            "Epoch 94/100\n",
            "8000/8000 [==============================] - 1s 119us/step - loss: 0.3369 - accuracy: 0.8619\n",
            "Epoch 95/100\n",
            "8000/8000 [==============================] - 1s 123us/step - loss: 0.3375 - accuracy: 0.8590\n",
            "Epoch 96/100\n",
            "8000/8000 [==============================] - 1s 116us/step - loss: 0.3363 - accuracy: 0.8627\n",
            "Epoch 97/100\n",
            "8000/8000 [==============================] - 1s 118us/step - loss: 0.3363 - accuracy: 0.8587\n",
            "Epoch 98/100\n",
            "8000/8000 [==============================] - 1s 118us/step - loss: 0.3366 - accuracy: 0.8620\n",
            "Epoch 99/100\n",
            "8000/8000 [==============================] - 1s 115us/step - loss: 0.3372 - accuracy: 0.8591\n",
            "Epoch 100/100\n",
            "8000/8000 [==============================] - 1s 120us/step - loss: 0.3364 - accuracy: 0.8601\n"
          ],
          "name": "stdout"
        },
        {
          "output_type": "execute_result",
          "data": {
            "text/plain": [
              "<keras.callbacks.callbacks.History at 0x7f9da8b60a90>"
            ]
          },
          "metadata": {
            "tags": []
          },
          "execution_count": 27
        }
      ]
    },
    {
      "cell_type": "code",
      "metadata": {
        "id": "ubc47dsDyl66",
        "colab_type": "code",
        "colab": {}
      },
      "source": [
        "y_predict = classifier.predict(X_test)\n",
        "y_predict = (y_predict > 0.5)\n",
        "print(y_predict)"
      ],
      "execution_count": 0,
      "outputs": []
    },
    {
      "cell_type": "code",
      "metadata": {
        "id": "Fu7_VyYjx3tJ",
        "colab_type": "code",
        "colab": {}
      },
      "source": [
        "#Cross Validate\n",
        "import keras\n",
        "from keras.models import Sequential\n",
        "from keras.layers import Dense\n",
        "from keras.wrappers.scikit_learn import KerasClassifier\n",
        "from sklearn.model_selection import cross_val_score\n",
        "\n",
        "def build_classifier():\n",
        " classifier = Sequential() # Initialising the ANN\n",
        " classifier.add(Dense(units = 6, kernel_initializer = 'uniform', activation = 'relu', input_dim = 11)) # Adding the input layer and the first hidden layer\n",
        " classifier.add(Dense(units = 6, kernel_initializer = 'uniform', activation = 'relu')) # Adding the second hidden layer\n",
        " classifier.add(Dense(units = 1, kernel_initializer = 'uniform', activation = 'sigmoid')) # Adding the output layer\n",
        " classifier.compile(optimizer = 'adam', loss = 'binary_crossentropy', metrics = ['accuracy']) # Compiling the ANN\n",
        " #classifier.fit(X_train, y_train, batch_size = 10, epochs = 100) # Fitting the ANN to the Training set\n",
        " return classifier\n",
        "\n",
        "classifier = KerasClassifier(build_fn= build_classifier, batch_size= 10, epochs = 100)\n",
        "accuracies = cross_val_score(estimator = classifier, X= X_train, y = y_train, cv = 10, n_jobs= 1)"
      ],
      "execution_count": 0,
      "outputs": []
    },
    {
      "cell_type": "code",
      "metadata": {
        "id": "UrlTEisUsHoI",
        "colab_type": "code",
        "colab": {}
      },
      "source": [
        "mean = accuracies.mean()\n",
        "variance = accuracies.std()\n",
        "print(mean)\n",
        "print(variance)"
      ],
      "execution_count": 0,
      "outputs": []
    },
    {
      "cell_type": "code",
      "metadata": {
        "id": "yPhECWxStHu6",
        "colab_type": "code",
        "colab": {}
      },
      "source": [
        "#Parameters Tuning for improving accuracy \n",
        "from keras.layers import Dropout"
      ],
      "execution_count": 0,
      "outputs": []
    }
  ]
}